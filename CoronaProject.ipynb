{
  "nbformat": 4,
  "nbformat_minor": 0,
  "metadata": {
    "colab": {
      "name": "CoronaProject.ipynb",
      "provenance": [],
      "collapsed_sections": []
    },
    "kernelspec": {
      "name": "python3",
      "display_name": "Python 3"
    },
    "language_info": {
      "name": "python"
    }
  },
  "cells": [
    {
      "cell_type": "code",
      "metadata": {
        "id": "qLun77CjWZXf"
      },
      "source": [
        "import numpy as np\n",
        "import matplotlib.pyplot as plt\n",
        "import pandas as pd"
      ],
      "execution_count": 1,
      "outputs": []
    },
    {
      "cell_type": "code",
      "metadata": {
        "id": "Jyk0hZIeWy8_"
      },
      "source": [
        "dataset = pd.read_csv('Covid.csv')\n",
        "X = dataset.iloc[:, :-1].values\n",
        "y = dataset.iloc[:, -1].values\n"
      ],
      "execution_count": 3,
      "outputs": []
    },
    {
      "cell_type": "code",
      "metadata": {
        "colab": {
          "base_uri": "https://localhost:8080/"
        },
        "id": "k1M4Mws2aMHU",
        "outputId": "a1e4b393-d69b-4d07-d07f-0b8e1abc56c1"
      },
      "source": [
        "print(X)"
      ],
      "execution_count": null,
      "outputs": [
        {
          "output_type": "stream",
          "text": [
            "[[ 21.   99.5]\n",
            " [ 22.  100.3]\n",
            " [ 23.   99.4]\n",
            " [ 24.   98.6]\n",
            " [ 19.   98.8]\n",
            " [ 20.   98.2]\n",
            " [ 21.   98.3]\n",
            " [ 20.   98.4]\n",
            " [ 26.  100.4]]\n"
          ],
          "name": "stdout"
        }
      ]
    },
    {
      "cell_type": "code",
      "metadata": {
        "colab": {
          "base_uri": "https://localhost:8080/"
        },
        "id": "L-ao0DHPaQLz",
        "outputId": "32624294-3f8d-45e2-f40a-b54ecb7aba46"
      },
      "source": [
        "print(y)"
      ],
      "execution_count": 4,
      "outputs": [
        {
          "output_type": "stream",
          "text": [
            "[1 0 1 0 0 1 1 1 0 0 0 0 1 1 1 0]\n"
          ],
          "name": "stdout"
        }
      ]
    },
    {
      "cell_type": "code",
      "metadata": {
        "id": "A7cH-1vuaZQ1"
      },
      "source": [
        "from sklearn.model_selection import train_test_split\n",
        "X_train, X_test, y_train, y_test = train_test_split(X, y, test_size = 0.25, random_state = 0)"
      ],
      "execution_count": 5,
      "outputs": []
    },
    {
      "cell_type": "code",
      "metadata": {
        "colab": {
          "base_uri": "https://localhost:8080/"
        },
        "id": "17QsWasCacyz",
        "outputId": "1afba11f-f716-4601-a15f-cc2b2b16e16e"
      },
      "source": [
        "print(X_train)"
      ],
      "execution_count": 7,
      "outputs": [
        {
          "output_type": "stream",
          "text": [
            "[[100.3   10.    10.   100.9   15.    11.   101.1   20.    12.   101.23\n",
            "   30.    13.   102.5   15.    14.  ]\n",
            " [ 98.1    0.     8.    98.7    0.     8.3   98.5    2.     7.9   99.1\n",
            "   11.    10.    98.3    1.     7.9 ]\n",
            " [ 99.     5.     7.9   99.5   10.     8.5  100.6   25.    11.   100.8\n",
            "   30.    11.5  101.    50.    13.  ]\n",
            " [ 99.1   20.    11.   101.    15.    12.   101.5   10.    13.   102.\n",
            "   20.    15.   102.9   25.    16.  ]\n",
            " [ 97.5    0.     8.    99.     5.     9.   100.1   15.    12.    99.\n",
            "   10.    13.    98.1    5.    10.  ]\n",
            " [ 99.7    5.     8.6   99.9   15.     9.9  101.5   60.    13.9  100.1\n",
            "   61.    14.1  101.9   72.    14.3 ]\n",
            " [ 97.8    0.     9.    99.1   10.     9.5  100.2   15.    10.3   99.5\n",
            "    7.    10.1   97.5    3.     9.2 ]\n",
            " [ 97.8    5.     8.5   99.1   10.     9.1  100.5   20.     9.9   99.5\n",
            "   15.     9.    99.5    4.     9.5 ]\n",
            " [ 98.9    1.     8.2   98.3    0.     8.3   98.7    2.     8.1   99.\n",
            "   10.     9.    98.5    3.     8.  ]\n",
            " [ 97.     0.     7.5   99.     5.     8.   100.4   34.    13.   100.9\n",
            "   36.    13.5  101.1   43.    14.  ]\n",
            " [ 98.5   10.     8.5   98.9   20.    12.   101.    55.    14.   100.\n",
            "   45.    14.   101.9   60.    15.  ]\n",
            " [ 99.1   10.     9.    98.9    7.     8.5   99.5   10.    11.   100.2\n",
            "   15.    13.   101.5   30.    16.  ]]\n"
          ],
          "name": "stdout"
        }
      ]
    },
    {
      "cell_type": "code",
      "metadata": {
        "colab": {
          "base_uri": "https://localhost:8080/"
        },
        "id": "nFGOkBz0akHE",
        "outputId": "ff161edf-58b6-4e20-c4d2-4735d82e0d4f"
      },
      "source": [
        "print(X_test)"
      ],
      "execution_count": 6,
      "outputs": [
        {
          "output_type": "stream",
          "text": [
            "[[ 98.    0.    8.   99.    2.    8.2  98.    1.    8.   99.   10.    9.\n",
            "   98.5   3.    8. ]\n",
            " [100.   18.    9.   99.8  25.   10.  101.2  50.   13.  100.5  55.   14.5\n",
            "  101.5  61.   15. ]\n",
            " [ 97.8   1.    7.8  97.9   0.    8.1  98.1   1.    7.9  99.1   5.    8.2\n",
            "   98.2   1.    8.1]\n",
            " [ 97.5   0.    7.5  98.    1.    7.8  98.3   1.    7.6  99.3   2.    7.9\n",
            "   98.1   1.    8. ]]\n"
          ],
          "name": "stdout"
        }
      ]
    },
    {
      "cell_type": "code",
      "metadata": {
        "id": "gfZyZVyqazYY"
      },
      "source": [
        "from sklearn.preprocessing import StandardScaler\n",
        "sc = StandardScaler()\n",
        "X_train = sc.fit_transform(X_train)\n",
        "X_test = sc.transform(X_test)"
      ],
      "execution_count": 8,
      "outputs": []
    },
    {
      "cell_type": "code",
      "metadata": {
        "colab": {
          "base_uri": "https://localhost:8080/"
        },
        "id": "h2gYAccDa7pV",
        "outputId": "49d14358-d965-43d2-e430-725738fed004"
      },
      "source": [
        "print(X_train)"
      ],
      "execution_count": 9,
      "outputs": [
        {
          "output_type": "stream",
          "text": [
            "[[ 1.88499853  0.76705784  1.40379296  1.91846378  0.94810936  1.09059197\n",
            "   0.84959079 -0.1297855   0.33724058  1.21536769  0.36567612  0.44813664\n",
            "   1.15841957 -0.45582109  0.59304535]\n",
            " [-0.5074996  -0.93751513 -0.72855078 -0.81923588 -1.56159188 -0.88344042\n",
            "  -1.91157928 -1.13098794 -1.76304251 -1.09772227 -0.82538325 -1.04565216\n",
            "  -1.1492621  -1.04038555 -1.46434419]\n",
            " [ 0.47124963 -0.08522865 -0.83516796  0.17629127  0.11154228 -0.7372158\n",
            "   0.31859655  0.14832629 -0.17502359  0.74840587  0.36567612 -0.29875776\n",
            "   0.33424754  1.00559004  0.25576837]\n",
            " [ 0.57999955  2.47163081  2.46996483  2.04290468  0.94810936  1.82171508\n",
            "   1.27438619 -0.68600908  0.84950475  2.05155515 -0.26119723  1.44399583\n",
            "   1.37819877 -0.03827505  1.26759929]\n",
            " [-1.15999909 -0.93751513 -0.72855078 -0.4459132  -0.7250248  -0.37165425\n",
            "  -0.2123977  -0.40789729  0.33724058 -1.20631805 -0.88807058  0.44813664\n",
            "  -1.2591517  -0.87336713 -0.75606255]\n",
            " [ 1.23249904 -0.08522865 -0.08884766  0.67405484  0.94810936  0.28635655\n",
            "   1.27438619  2.09510881  1.3105425  -0.01176454  2.30898351  0.9958592\n",
            "   0.82875076  1.92419133  0.69422844]\n",
            " [-0.83374935 -0.93751513  0.33762109 -0.32147231  0.11154228 -0.00609269\n",
            "  -0.10619885 -0.40789729 -0.53360851 -0.66333918 -1.07613259 -0.9958592\n",
            "  -1.58882051 -0.95687634 -1.02588413]\n",
            " [-0.83374935 -0.08522865 -0.19546484 -0.32147231  0.11154228 -0.29854194\n",
            "   0.2123977  -0.1297855  -0.73851418 -0.66333918 -0.57463391 -1.54358175\n",
            "  -0.48992448 -0.91512173 -0.92470104]\n",
            " [ 0.36249972 -0.76705784 -0.5153164  -1.31699946 -1.56159188 -0.88344042\n",
            "  -1.69918158 -1.13098794 -1.66058968 -1.20631805 -0.88807058 -1.54358175\n",
            "  -1.0393725  -0.95687634 -1.4306165 ]\n",
            " [-1.70374867 -0.93751513 -1.26163671 -0.4459132  -0.7250248  -1.10277736\n",
            "   0.10619885  0.64892751  0.84950475  0.85700164  0.74180013  0.69710144\n",
            "   0.38919234  0.71330782  0.59304535]\n",
            " [-0.07249994  0.76705784 -0.19546484 -0.5703541   1.78467644  1.82171508\n",
            "   0.74339194  1.81699702  1.36176892 -0.12036032  1.30598615  0.94606624\n",
            "   0.82875076  1.42313608  0.93032232]\n",
            " [ 0.57999955  0.76705784  0.33762109 -0.5703541  -0.39039797 -0.7372158\n",
            "  -0.84959079 -0.68600908 -0.17502359  0.09683123 -0.57463391  0.44813664\n",
            "   0.60897155  0.17049797  1.26759929]]\n"
          ],
          "name": "stdout"
        }
      ]
    },
    {
      "cell_type": "code",
      "metadata": {
        "colab": {
          "base_uri": "https://localhost:8080/"
        },
        "id": "naw_yFhGa-4U",
        "outputId": "87b5f04e-9747-42e3-d33e-ebf478d6baa2"
      },
      "source": [
        "print(X_test)"
      ],
      "execution_count": 10,
      "outputs": [
        {
          "output_type": "stream",
          "text": [
            "[[-0.61624952 -0.93751513 -0.72855078 -0.4459132  -1.22696505 -0.95655273\n",
            "  -2.44257352 -1.1866103  -1.7118161  -1.20631805 -0.88807058 -1.54358175\n",
            "  -1.0393725  -0.95687634 -1.4306165 ]\n",
            " [ 1.55874878  2.13071621  0.33762109  0.54961395  2.62124352  0.35946886\n",
            "   0.95578964  1.53888523  0.84950475  0.42261855  1.9328595   1.19503103\n",
            "   0.60897155  1.46489068  0.93032232]\n",
            " [-0.83374935 -0.76705784 -0.94178515 -1.81476304 -1.56159188 -1.02966504\n",
            "  -2.33637467 -1.1866103  -1.76304251 -1.09772227 -1.20150726 -1.94192543\n",
            "  -1.2042069  -1.04038555 -1.3968888 ]\n",
            " [-1.15999909 -0.93751513 -1.26163671 -1.69032214 -1.39427847 -1.24900198\n",
            "  -2.12397698 -1.1866103  -1.91672176 -0.88053073 -1.38956926 -2.09130431\n",
            "  -1.2591517  -1.04038555 -1.4306165 ]]\n"
          ],
          "name": "stdout"
        }
      ]
    },
    {
      "cell_type": "code",
      "metadata": {
        "colab": {
          "base_uri": "https://localhost:8080/"
        },
        "id": "p116M6F7bLCj",
        "outputId": "a4bdd8ae-c8a3-4649-a13b-d184195b95a6"
      },
      "source": [
        "from sklearn.neighbors import KNeighborsClassifier\n",
        "classifier = KNeighborsClassifier(n_neighbors = 5, metric = 'minkowski', p = 2)\n",
        "classifier.fit(X_train, y_train)"
      ],
      "execution_count": 11,
      "outputs": [
        {
          "output_type": "execute_result",
          "data": {
            "text/plain": [
              "KNeighborsClassifier(algorithm='auto', leaf_size=30, metric='minkowski',\n",
              "                     metric_params=None, n_jobs=None, n_neighbors=5, p=2,\n",
              "                     weights='uniform')"
            ]
          },
          "metadata": {},
          "execution_count": 11
        }
      ]
    },
    {
      "cell_type": "code",
      "metadata": {
        "colab": {
          "base_uri": "https://localhost:8080/"
        },
        "id": "ikdRRF31bOST",
        "outputId": "15cb2b5f-9c15-4be3-fa06-67c3df1623d4"
      },
      "source": [
        "print(classifier.predict(sc.transform([[99.1,20,11,101,15,12,101.5,10,13,102,20,15,102.9,25,16]])))"
      ],
      "execution_count": 13,
      "outputs": [
        {
          "output_type": "stream",
          "text": [
            "[1]\n"
          ],
          "name": "stdout"
        }
      ]
    },
    {
      "cell_type": "code",
      "metadata": {
        "colab": {
          "base_uri": "https://localhost:8080/"
        },
        "id": "KFLxP4n2bmXI",
        "outputId": "350b03df-4502-40ad-ef29-8ae9412b7900"
      },
      "source": [
        "y_pred = classifier.predict(X_test)\n",
        "print(np.concatenate((y_pred.reshape(len(y_pred),1), y_test.reshape(len(y_test),1)),1))"
      ],
      "execution_count": 14,
      "outputs": [
        {
          "output_type": "stream",
          "text": [
            "[[0 0]\n",
            " [1 1]\n",
            " [0 0]\n",
            " [0 0]]\n"
          ],
          "name": "stdout"
        }
      ]
    },
    {
      "cell_type": "code",
      "metadata": {
        "colab": {
          "base_uri": "https://localhost:8080/"
        },
        "id": "R_c_ZEYBb1dX",
        "outputId": "39329eb9-0608-4d43-e706-bad8920f1299"
      },
      "source": [
        "from sklearn.metrics import confusion_matrix, accuracy_score\n",
        "cm = confusion_matrix(y_test, y_pred)\n",
        "print(cm)\n",
        "accuracy_score(y_test, y_pred)"
      ],
      "execution_count": 15,
      "outputs": [
        {
          "output_type": "stream",
          "text": [
            "[[3 0]\n",
            " [0 1]]\n"
          ],
          "name": "stdout"
        },
        {
          "output_type": "execute_result",
          "data": {
            "text/plain": [
              "1.0"
            ]
          },
          "metadata": {},
          "execution_count": 15
        }
      ]
    }
  ]
}